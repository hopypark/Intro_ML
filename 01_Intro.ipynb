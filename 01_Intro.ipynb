{
 "cells": [
  {
   "cell_type": "markdown",
   "metadata": {},
   "source": [
    "## 참고: https://tensorflow.blog/"
   ]
  },
  {
   "cell_type": "markdown",
   "metadata": {},
   "source": [
    "# Chapter 1. 소개\n",
    "\n",
    "## 1.1 왜 머신러닝인가?\n",
    "* 초창기 지능형 애플리케이션들은 데이터를 처리하고 사용자의 입력을 다루는 데 하드 코딩된 “if”와 “else” 명령을 사용하는 시스템\n",
    "* 스팸 필터를 예를 들어보자.\n",
    " 1. 스팸으로 의심되는 단어들로 블랙 리스트를 만들어 처리할 수 있을 것(규칙 기반 전문가 시스템<sup>rule-based expert system</sup>)\n",
    " 2. 결정 규칙을 수동으로 만드는 것이 적합하고 모델링할 처리 과정을 사람이 잘 알고 있는 경우에 가능\n",
    " 3. 하지만 직접 규칙을 만드는 것은 두 가지 커다란 단점이 있다.\n",
    "   - 결정에 필요한 로직은 한 분야나 작업에 국한됩니다. 작업이 조금만 변경되더라도 전체 시스템을 다시 개발해야 한다.\n",
    "   - 규칙을 설계하려면 그 분야 전문가들이 내리는 결정 방식에 대해 잘 알아야 합니다.\n",
    " 4. 얼굴 인식은 규칙을 직접 만드는 데 실패한 대표적인 예임.\n",
    "   - 컴퓨터가 인식하는 픽셀(컴퓨터에서 이미지를 구성하는 단위) 방식이 사람이 얼굴을 인식하는 방식과 매우 다르다는 점이 가장 큰 문제\n",
    "   - 디지털 이미지에서 얼굴을 구성하는 것이 무엇인지를 일련의 규칙으로 잘 표현하기가 근본적으로 불가능\n",
    "\n",
    "\n",
    "* 그러나 머신러닝을 사용하여 알고리즘에 많은 얼굴 이미지를 제공해주면 얼굴을 특정하는 요소가 어떤 것인지를 충분히 찾아낼 수 있습니다."
   ]
  },
  {
   "cell_type": "markdown",
   "metadata": {},
   "source": [
    "### 1.1.1 머신러닝으로 풀 수 있는 문제\n",
    "* 이미 알려진 사례를 바탕으로 일반화된 모델을 만들어 의사 결정 프로세스를 자동화하는 것들입니다. 이 방식을 **지도 학습**<sup>supervised learning</sup>이라고 한다.\n",
    "* 사용자는 알고리즘에 입력과 기대되는 출력을 제공하고 알고리즘은 주어진 입력에서 원하는 출력을 만드는 방법을 찾습니다.\n",
    "* 이렇게 학습된 알고리즘은 사람의 도움 없이도 새로운 입력이 주어지면 적절한 출력을 만들 수 있습니다. \n",
    "* 스팸 분류 문제로 돌아가 보면...\n",
    "  - 머신러닝을 사용해서 사용자는 알고리즘에 많은 이메일(입력)과 각 이메일의 스팸 여부(기대되는 출력)를 제공합니다. 그러면 이 알고리즘은 새로운 이메일이 스팸인지 아닌지 예측할 수 있게 됩니다.\n",
    "\n",
    "* 입력 데이터로부터 기대한 출력이 나오도록 알고리즘을 가르치는 것이기 때문에 입력과 출력으로부터 학습하는 머신러닝 알고리즘들을 **지도 학습** 알고리즘이라고 한다.\n",
    "  - 입력과 출력 데이터를 만드는 것은 종종 수작업을 거쳐야 해서 힘든 일이지만, 지도 학습 알고리즘은 분석하기에 좋고 성능을 측정하기도 쉽습니다. \n",
    "* 만약 여러분의 애플리케이션을 지도 학습 문제로 구성할 수 있고 원하는 출력을 포함한 데이터셋<sup>dataset</sup>을 만들 수 있다면 아마도 머신러닝이 그 문제를 해결할 수 있을 것입니다.\n",
    "\n",
    "* 예)\n",
    "   - 편지 봉투에 손으로 쓴 우편번호 숫자 판별, \n",
    "   - 의료 영상 이미지에 기반한 종양 판단, \n",
    "   - 의심되는 신용카드 거래 감지\n",
    "\n",
    "\n",
    "* 이 책에서 다룰 또 다른 알고리즘은 **비지도 학습**<sup>unsupervised learning</sup> 알고리즘입니다. 비지도 학습에서는 알고리즘에 입력은 주어지지만 출력은 제공되지 않습니다. 이 알고리즘의 성공 사례는 많지만 비지도 학습을 이해하거나 평가하는 일은 쉽지 않습니다.\n",
    "\n",
    "* 예)\n",
    "  - 블로그 글의 주제 구분 - 많은 양의 텍스트 데이터를 요약하고 그 안에 담긴 핵심 주제를 찾을 때\n",
    "  - 고객들을 취향이 비슷한 그룹으로 묶기-고객 데이터를 이용해서 어떤 고객들의 취향이 비슷한지 알고 싶거나 비슷한 취향의 고객을 그룹으로 묶고 싶을 것\n",
    "  - 비정상적인 웹사이트 접근 탐지-일상적이지 않은 접근 패턴을 찾으면 부정행위나 버그를 구별하는 데 도움\n",
    "  \n",
    "> 머신러닝에서는 하나의 개체 혹은 행을 샘플<sup>sample</sup> 또는 데이터 포인트<sup>data point</sup>라고 부릅니다. 그리고 샘플의 속성, 즉 열을 특성<sup>feature</sup>이라고 합니다.\n",
    "나중에 이 책에서 좋은 입력 데이터를 만들어내는 특성 추출<sup>feature extraction</sup> 혹은 특성 공학<sup>feature engineering</sup>이라는 주제를 자세히 다뤄보겠습니다\n",
    "\n",
    "* 유념해둬야 할 것은 어떤 머신러닝 알고리즘도 아무런 정보가 없는 데이터로는 그 어떤 것도 예측할 수 없다는 사실입니다.\n",
    "* "
   ]
  },
  {
   "cell_type": "markdown",
   "metadata": {},
   "source": [
    "### 1.1.2 문제와 데이터 이해하기\n",
    "* 머신러닝 프로세스에서 가장 중요한 과정은 사용할 데이터를 이해하고 그 데이터가 해결해야 할 문제와 어떤 관련이 있는지를 이해하는 일임.\n",
    "* 데이터셋으로 무엇을 하는 것인지 머신러닝 모델을 만들기 전에 반드시 이해해야 합니다. 이는 알고리즘마다 잘 들어맞는 데이터나 문제의 종류가 다르기 때문입니다.\n",
    "* 머신러닝 솔루션을 만들 동안 다음 질문에 답해보거나 최소한 마음에 새겨둬야 합니다.\n",
    "\n",
    "  1. 어떤 질문에 대한 답을 원하는가? 가지고 있는 데이터가 원하는 답을 줄 수 있는가?\n",
    "  2. 내 질문을 머신러닝의 문제로 가장 잘 기술하는 방법은 무엇인가?\n",
    "  3. 문제를 풀기에 충분한 데이터를 모았는가?\n",
    "  4. 내가 추출한 데이터의 특성은 무엇이며 좋은 예측을 만들어낼 수 있을 것인가?\n",
    "  5. 머신러닝 애플리케이션의 성과를 어떻게 측정할 수 있는가?\n",
    "  6. 머신러닝 솔루션이 다른 연구나 제품과 어떻게 협력할 수 있는가?\n",
    "\n",
    "\n",
    "* 넓은 시각으로 보면, 머신러닝 알고리즘이나 방법론은 특정 문제를 푸는 전체 과정의 일부일 뿐입니다. \n",
    "* 항상 머릿속에 전체 시스템에 대한 큰 그림을 담고 있어야 합니다. 많은 사람이 복잡한 머신러닝 솔루션을 구축하느라 오랜 시간을 투자하고 나서야 문제를 풀기에 적절한 방법이 아니었음을 깨닫습니다.\n",
    "*  **머신러닝 모델을 구축하기 시작할 때 직간접적인 가능한 모든 가정들을 세워보라고 강조해봅니다.**"
   ]
  },
  {
   "cell_type": "markdown",
   "metadata": {},
   "source": [
    "## 1.2 왜 파이썬인가?\n",
    "* 매트랩이나 R같은 스크립팅 언어의 장점\n",
    "* 데이터 적재, 통계, 시각화, 자연어 처리, 이미지 처리 등에 필요한 라이브러리\n",
    "* 터미널이나 주피터 노트북같은 도구로 대화하듯이 프로그램이 가능\n",
    "\n",
    "## 1.3 scikit-learn\n",
    "* scikit-learn의 사용자 가이드(http://scikit-learn.org/stable/user_guide.html)\n",
    "* API 문서(http://scikit-learn.org/stable/modules/classes.html)를 같이 참고\n",
    "\n",
    "## 1.4 필수라이브러리 도구들\n",
    "### 1.4.1 주피터 노트북\n",
    "* 브라우저 기반의 대화식 개발환경 제공\n",
    "* 다양한 프로그래밍 언어제 지원\n",
    "\n",
    "### 1.4.2 NumPy\n",
    "* 과학 계산을 위한 패키지로 다차원 배열과 선형대수, 푸리에 변환 같은 고수준 수학 함수와 유사 난수 생성기를 포함\n",
    "* scikit-learnd에서 NumPy배열은 기본 데이터 구조로 우리가 사용할 데이터는 무두 NumPy 배열로 변환되어야 한다.\n",
    "* 핵심은 다차원(n-차원) 배열인 ndarray 클래스이다. 배열의 모든 원소는 동일한 데이터 타입이어야 한다.\n",
    "\n",
    "다음은 NumPy 배열의 예제이다."
   ]
  },
  {
   "cell_type": "code",
   "execution_count": 3,
   "metadata": {},
   "outputs": [
    {
     "name": "stdout",
     "output_type": "stream",
     "text": [
      "x:\n",
      "[[1 2 3]\n",
      " [4 5 6]]\n"
     ]
    }
   ],
   "source": [
    "import numpy as np\n",
    "\n",
    "x = np.array([[1, 2, 3], [4, 5, 6]])\n",
    "print(\"x:\\n{}\".format(x))"
   ]
  },
  {
   "cell_type": "markdown",
   "metadata": {},
   "source": [
    "### 1.4.3 SciPy\n",
    "* SciPy(https://www.scipy.org/scipylib)는 과학 계산용 함수를 모아놓은 파이썬 패키지\n",
    "* SciPy는 고성능 선형대수, 함수 최적화, 신호 처리, 특수한 수학 함수와 통계 분포 등을 포함한 많은 기능을 제공\n",
    "* scikit-learn은 알고리즘을 구현할 때 SciPy의 여러 함수를 사용\n",
    "* 가장 중요한 기능은 scipy.sparse입니다. 이 모듈은 scikit-learn에서 데이터를 표현하는 또 하나의 방법인 희소 행렬(sparse matrix, 0을 많이 포함하는 2차원 배열을 저장할 때) 기능을 제공"
   ]
  },
  {
   "cell_type": "code",
   "execution_count": 4,
   "metadata": {},
   "outputs": [
    {
     "name": "stdout",
     "output_type": "stream",
     "text": [
      "NumPy 배열:\n",
      "[[1. 0. 0. 0.]\n",
      " [0. 1. 0. 0.]\n",
      " [0. 0. 1. 0.]\n",
      " [0. 0. 0. 1.]]\n"
     ]
    }
   ],
   "source": [
    "from scipy import sparse\n",
    "\n",
    "# 대각선 원소는 1이고 나머지는 0인 2차원 NumPy 배열을 만듭니다.\n",
    "eye = np.eye(4)\n",
    "print(\"NumPy 배열:\\n{}\".format(eye))"
   ]
  },
  {
   "cell_type": "code",
   "execution_count": 5,
   "metadata": {},
   "outputs": [
    {
     "name": "stdout",
     "output_type": "stream",
     "text": [
      "SciPy의 CSR 행렬:\n",
      "  (0, 0)\t1.0\n",
      "  (1, 1)\t1.0\n",
      "  (2, 2)\t1.0\n",
      "  (3, 3)\t1.0\n"
     ]
    }
   ],
   "source": [
    "# NumPy 배열을 CSR(Compressed Row Storage, 행의 인덱스를 압축해서 저장) 포맷의 SciPy 희소 행렬로 변환합니다.\n",
    "# 0이 아닌 원소만 저장됩니다.\n",
    "sparse_matrix = sparse.csr_matrix(eye)\n",
    "print(\"SciPy의 CSR 행렬:\\n{}\".format(sparse_matrix))"
   ]
  },
  {
   "cell_type": "code",
   "execution_count": 20,
   "metadata": {},
   "outputs": [
    {
     "data": {
      "text/plain": [
       "<4x4 sparse matrix of type '<class 'numpy.float64'>'\n",
       "\twith 4 stored elements in Compressed Sparse Row format>"
      ]
     },
     "execution_count": 20,
     "metadata": {},
     "output_type": "execute_result"
    }
   ],
   "source": [
    "sparse_matrix"
   ]
  },
  {
   "cell_type": "markdown",
   "metadata": {},
   "source": [
    "보통 희소 행렬을 0을 모두 채운 2차원 배열로부터 만들지 않으므로(메모리가 부족할 수 있어서) 희소 행렬을 직접 만들 수 있어야 합니다. 다음은 COO 포맷(Coordinate 포맷의 약자로 데이터가 놓일 행렬의 위치를 별도의 매개변수로 전달합니다) 을 이용해서 앞서와 동일한 희소 행렬을 만드는 예제입니다."
   ]
  },
  {
   "cell_type": "code",
   "execution_count": 11,
   "metadata": {
    "scrolled": true
   },
   "outputs": [
    {
     "name": "stdout",
     "output_type": "stream",
     "text": [
      "COO 표현:\n",
      "  (0, 0)\t1.0\n",
      "  (1, 1)\t1.0\n",
      "  (2, 2)\t1.0\n",
      "  (3, 3)\t1.0\n"
     ]
    }
   ],
   "source": [
    "data = np.ones(4)\n",
    "row_indices = np.arange(4)\n",
    "col_indices = np.arange(4)\n",
    "eye_coo = sparse.coo_matrix((data, (row_indices, col_indices)))\n",
    "print(\"COO 표현:\\n{}\".format(eye_coo))"
   ]
  },
  {
   "cell_type": "code",
   "execution_count": 17,
   "metadata": {},
   "outputs": [
    {
     "data": {
      "text/plain": [
       "(array([0, 1, 2, 3]), array([0, 1, 2, 3]))"
      ]
     },
     "execution_count": 17,
     "metadata": {},
     "output_type": "execute_result"
    }
   ],
   "source": [
    "(row_indices, col_indices)"
   ]
  },
  {
   "cell_type": "markdown",
   "metadata": {},
   "source": [
    "### 1.4.4 matplotlib\n",
    "* matplotlib(https://matplotlib.org/)은 파이썬의 대표적인 과학 계산용 그래프 라이브러리\n",
    "* 선 그래프, 히스토그램, 산점도 등을 지원하며 출판에 쓸 수 있을 만큼의 고품질 그래프를 그려줍니다\n",
    "* %matplotlib notebook이나 %matplotlib inline 명령을 사용하면 브라우저에서 바로 이미지를 볼 수 있습니다. \n",
    "* 대화식 환경을 제공하는 %matplotlib notebook 명령을 권장\n"
   ]
  },
  {
   "cell_type": "code",
   "execution_count": 26,
   "metadata": {},
   "outputs": [
    {
     "data": {
      "text/plain": [
       "[<matplotlib.lines.Line2D at 0x1ccadbc1668>]"
      ]
     },
     "execution_count": 26,
     "metadata": {},
     "output_type": "execute_result"
    },
    {
     "data": {
      "image/png": "[encoded data removed]",
      "text/plain": [
       "<Figure size 432x288 with 1 Axes>"
      ]
     },
     "metadata": {},
     "output_type": "display_data"
    }
   ],
   "source": [
    "%matplotlib inline\n",
    "import matplotlib.pyplot as plt\n",
    "\n",
    "# -10에서 10까지 100개의 간격으로 나뉘어진 배열을 생성합니다.\n",
    "x = np.linspace(-10, 10, 100)\n",
    "# 사인(sin) 함수를 사용하여 y 배열을 생성합니다.\n",
    "y = np.sin(x)\n",
    "# 플롯(plot) 함수는 한 배열의 값을 다른 배열에 대응해서 선 그래프를 그립니다.\n",
    "plt.plot(x, y, marker=\"x\")"
   ]
  },
  {
   "cell_type": "markdown",
   "metadata": {},
   "source": [
    "그림 1-1 matplotlib으로 그린 사인(sine) 함수"
   ]
  },
  {
   "cell_type": "markdown",
   "metadata": {},
   "source": [
    "### 1.4.5 pandas\n",
    "* pandas(http://pandas.pydata.org/)는 데이터 처리와 분석을 위한 파이썬 라이브러리\n",
    "* R의 data.frame을 본떠서 설계한 DataFrame이라는 데이터 구조를 기반으로 만들어졌습니다\n",
    "* pandas의 DataFrame은 엑셀의 스프레드시트와 비슷한 테이블 형태\n",
    "* pandas는 이 테이블을 수정하고 조작하는 다양한 기능을 제공합니다\n",
    "* 특히, SQL처럼 테이블에 쿼리나 조인을 수행할 수 있습니다. \n",
    "* 전체 배열의 원소가 동일한 타입이어야 하는 NumPy와는 달리 pandas는 각 열의 타입이 달라도 됩니다(예를 들면 정수, 날짜, 부동소숫점, 문자열)\n",
    "* SQL, 엑셀 파일, CSV 파일 같은 다양한 파일과 데이터베이스에서 데이터를 읽어 들일 수 있는 것이 pandas가 제공하는 또 하나의 유용한 기능"
   ]
  },
  {
   "cell_type": "code",
   "execution_count": 28,
   "metadata": {},
   "outputs": [
    {
     "data": {
      "text/html": [
       "<div>\n",
       "<style scoped>\n",
       "    .dataframe tbody tr th:only-of-type {\n",
       "        vertical-align: middle;\n",
       "    }\n",
       "\n",
       "    .dataframe tbody tr th {\n",
       "        vertical-align: top;\n",
       "    }\n",
       "\n",
       "    .dataframe thead th {\n",
       "        text-align: right;\n",
       "    }\n",
       "</style>\n",
       "<table border=\"1\" class=\"dataframe\">\n",
       "  <thead>\n",
       "    <tr style=\"text-align: right;\">\n",
       "      <th></th>\n",
       "      <th>Name</th>\n",
       "      <th>Location</th>\n",
       "      <th>Age</th>\n",
       "    </tr>\n",
       "  </thead>\n",
       "  <tbody>\n",
       "    <tr>\n",
       "      <th>0</th>\n",
       "      <td>John</td>\n",
       "      <td>New York</td>\n",
       "      <td>24</td>\n",
       "    </tr>\n",
       "    <tr>\n",
       "      <th>1</th>\n",
       "      <td>Anna</td>\n",
       "      <td>Paris</td>\n",
       "      <td>13</td>\n",
       "    </tr>\n",
       "    <tr>\n",
       "      <th>2</th>\n",
       "      <td>Peter</td>\n",
       "      <td>Berlin</td>\n",
       "      <td>53</td>\n",
       "    </tr>\n",
       "    <tr>\n",
       "      <th>3</th>\n",
       "      <td>Linda</td>\n",
       "      <td>London</td>\n",
       "      <td>33</td>\n",
       "    </tr>\n",
       "  </tbody>\n",
       "</table>\n",
       "</div>"
      ],
      "text/plain": [
       "    Name  Location  Age\n",
       "0   John  New York   24\n",
       "1   Anna     Paris   13\n",
       "2  Peter    Berlin   53\n",
       "3  Linda    London   33"
      ]
     },
     "metadata": {},
     "output_type": "display_data"
    }
   ],
   "source": [
    "from IPython.display import display\n",
    "import pandas as pd\n",
    "\n",
    "# 회원 정보가 들어간 간단한 데이터셋을 생성합니다.\n",
    "data = {'Name': [\"John\", \"Anna\", \"Peter\", \"Linda\"],\n",
    "        'Location' : [\"New York\", \"Paris\", \"Berlin\", \"London\"],\n",
    "        'Age' : [24, 13, 53, 33]\n",
    "       }\n",
    "\n",
    "data_pandas = pd.DataFrame(data)\n",
    "# IPython.display는 주피터 노트북에서 Dataframe을 미려하게 출력해줍니다.\n",
    "display(data_pandas)"
   ]
  },
  {
   "cell_type": "code",
   "execution_count": 29,
   "metadata": {},
   "outputs": [
    {
     "data": {
      "text/html": [
       "<div>\n",
       "<style scoped>\n",
       "    .dataframe tbody tr th:only-of-type {\n",
       "        vertical-align: middle;\n",
       "    }\n",
       "\n",
       "    .dataframe tbody tr th {\n",
       "        vertical-align: top;\n",
       "    }\n",
       "\n",
       "    .dataframe thead th {\n",
       "        text-align: right;\n",
       "    }\n",
       "</style>\n",
       "<table border=\"1\" class=\"dataframe\">\n",
       "  <thead>\n",
       "    <tr style=\"text-align: right;\">\n",
       "      <th></th>\n",
       "      <th>Name</th>\n",
       "      <th>Location</th>\n",
       "      <th>Age</th>\n",
       "    </tr>\n",
       "  </thead>\n",
       "  <tbody>\n",
       "    <tr>\n",
       "      <th>2</th>\n",
       "      <td>Peter</td>\n",
       "      <td>Berlin</td>\n",
       "      <td>53</td>\n",
       "    </tr>\n",
       "    <tr>\n",
       "      <th>3</th>\n",
       "      <td>Linda</td>\n",
       "      <td>London</td>\n",
       "      <td>33</td>\n",
       "    </tr>\n",
       "  </tbody>\n",
       "</table>\n",
       "</div>"
      ],
      "text/plain": [
       "    Name Location  Age\n",
       "2  Peter   Berlin   53\n",
       "3  Linda   London   33"
      ]
     },
     "metadata": {},
     "output_type": "display_data"
    }
   ],
   "source": [
    "# Age 열의 값이 30 이상인 모든 행을 선택합니다.\n",
    "display(data_pandas[data_pandas.Age > 30])"
   ]
  },
  {
   "cell_type": "markdown",
   "metadata": {},
   "source": [
    "### 1.4.6 mglearn\n",
    "* 깃허브(https://github.com/rickiepark/introduction_to_ml_with_python)에 있는 코드와 병행해서 작성했지만 mglearn 라이브러리도 포함\n",
    "* 이 라이브러리는 그래프나 데이터 적재와 관련한 세세한 코드를 일일이 쓰지 않아도 되게끔 이 책을 위해 만든 유틸리티 함수\n",
    "* mglearn 모듈의 상세 사항은 이 책이 다루는 내용과 큰 관련이 없으며, 간단하게 그림을 그리거나 필요한 데이터를 바로 불러들이기 위해 mglearn을 사용\n",
    "* mglearn 설치는 pip install mglearn 명령으로 설치하는 것이 가장 쉬운 방법입니다\n",
    "\n",
    "> 이 책은 NumPy, matplotlib, pandas를 많이 사용합니다. 따라서 모든 코드는 다음의 네 라이브러리를 임포트한다고 가정합니다.\n",
    "\n",
    "<pre>\n",
    "  from IPython.display import display  \n",
    "  \n",
    "  import numpy as np\n",
    "  import matplotlib.pyplot as plt  \n",
    "  import pandas as pd\n",
    "  import mglearn\n",
    "</pre>"
   ]
  },
  {
   "cell_type": "markdown",
   "metadata": {},
   "source": [
    "## 1.5 파이썬 2 vs. 파이썬 3\n",
    "* 파이썬 2는 더 이상 큰 개선은 진행되지 않으며 \n",
    "* 파이썬 3에서 변경 사항이 많아 파이썬 2로 작성한 코드는 파이썬 3에서 실행되지 않는 경우가 많습니다\n",
    "* 파이썬을 처음 쓰는 사람이거나 프로젝트를 새로 시작한다면 파이썬 3의 최신 버전을 사용하라고 권합니다.\n",
    "* 대부분의 경우 새로운 코드가 파이썬 2와 3에서 모두 실행되도록 작성하는 것은 어렵지 않습니다\n",
    "* 기존 소프트웨어와 연동하지 않아도 된다면 당연히 파이썬 3를 사용해야 합니다. \n",
    "* 이 책의 모든 코드는 두 버전에서 모두 작동합니다. 하지만 파이썬 2에서는 출력 모양이 조금 다를 수 있습니다.\n",
    "\n",
    "\n",
    "## 1.6 이 책에서 사용하는 소프트웨어 버전"
   ]
  },
  {
   "cell_type": "code",
   "execution_count": 31,
   "metadata": {},
   "outputs": [
    {
     "name": "stdout",
     "output_type": "stream",
     "text": [
      "Python 버전: 3.6.5 |Anaconda, Inc.| (default, Mar 29 2018, 13:32:41) [MSC v.1900 64 bit (AMD64)]\n",
      "pandas 버전: 0.23.0\n",
      "matplotlib 버전: 2.2.2\n",
      "NumPy 버전: 1.14.3\n",
      "SciPy 버전: 1.1.0\n",
      "IPython 버전: 6.4.0\n",
      "scikit-learn 버전: 0.19.1\n"
     ]
    }
   ],
   "source": [
    "import sys\n",
    "print(\"Python 버전: {}\".format(sys.version))\n",
    "\n",
    "import pandas as pd\n",
    "print(\"pandas 버전: {}\".format(pd.__version__))\n",
    "\n",
    "import matplotlib\n",
    "print(\"matplotlib 버전: {}\".format(matplotlib.__version__))\n",
    "\n",
    "import numpy as np\n",
    "print(\"NumPy 버전: {}\".format(np.__version__))\n",
    "\n",
    "import scipy as sp\n",
    "print(\"SciPy 버전: {}\".format(sp.__version__))\n",
    "\n",
    "import IPython\n",
    "print(\"IPython 버전: {}\".format(IPython.__version__))\n",
    "\n",
    "import sklearn\n",
    "print(\"scikit-learn 버전: {}\".format(sklearn.__version__))"
   ]
  },
  {
   "cell_type": "markdown",
   "metadata": {},
   "source": [
    "버전이 정확히 같아야 하는 것은 아니지만 scikit-learn은 가능한 한 최신 버전이어야 합니다.\n",
    "\n",
    "이제 시작해보자."
   ]
  },
  {
   "cell_type": "markdown",
   "metadata": {},
   "source": [
    "## 1.7 첫 번째 애플리케이션: 붓꽃의 품종 분류\n",
    "* 간단한 머신러닝 애플리케이션을 훑어가면서 첫 번째 모델을 만들어보겠습니다. \n",
    "* 그러면서 핵심 개념과 용어를 소개하겠습니다.\n",
    "\n",
    "\n",
    "* 한 아마추어 식물학자가 들에서 발견한 붓꽃의 품종을 알고 싶다고 가정\n",
    "* 이 식물학자는 붓꽃의 꽃잎<sup>petal</sup>과 꽃받침<sup>sepal</sup>의 폭과 길이를 센티미터 단위로 측정(그림 1-2).\n",
    "* 이 측정값을 이용해서 앞에서 채집한 붓꽃이 어떤 품종인지 구분하려고 함.\n",
    "  - 이 아마추어 식물학자가 야생에서 채집한 붓꽃은 이 세 종류뿐이라고 가정\n",
    "\n",
    "\n",
    "* 우리의 목표는 어떤 품종인지 구분해놓은 측정 데이터를 이용해 새로 채집한 붓꽃의 품종을 예측하는 머신러닝 모델을 만드는 것입니다.\n",
    "\n",
    "\n",
    "![](https://tensorflowkorea.files.wordpress.com/2017/06/1-2.png?w=400&h=400)\n"
   ]
  },
  {
   "cell_type": "markdown",
   "metadata": {},
   "source": [
    "그림 1-2 붓꽃의 부위"
   ]
  },
  {
   "cell_type": "markdown",
   "metadata": {},
   "source": [
    "* 붓꽃의 품종을 정확하게 분류한 데이터를 가지고 있으므로 이 문제는 지도 학습\n",
    "* 이 경우에는 몇 가지 선택사항(붓꽃의 품종) 중 하나를 선택하는 문제\n",
    "* 그러므로 이 예는 분류<sup>Classification</sup> 문제에 해당합니다. 출력될 수 있는 값(붓꽃의 종류)들을 클래스<sup>class</sup>라고 합니다\n",
    "* 데이터셋에 있는 붓꽃 데이터는 모두 세 클래스 중 하나에 속합니다. 따라서 이 예는 세 개의 클래스를 분류하는 문제입니다.\n",
    "* 데이터 포인트 하나(붓꽃 하나)에 대한 기대 출력은 꽃의 품종이 됩니다. 이런 특정 데이터 포인트에 대한 출력, 즉 품종을 레이블<sup>label</sup>이라고 합니다."
   ]
  },
  {
   "cell_type": "markdown",
   "metadata": {},
   "source": [
    "### 1.7.1 데이터 적재\n",
    "데이터셋은 머신러닝과 통계 분야에서 오래전부터 사용해온 붓꽃<sup>iris</sup> 데이터셋\n",
    "* 이 데이터는 scikit-learn의 datasets 모듈에 포함\n",
    "* load_iris 함수를 사용해서 데이터를 적재\n"
   ]
  },
  {
   "cell_type": "code",
   "execution_count": 33,
   "metadata": {},
   "outputs": [],
   "source": [
    "from sklearn.datasets import load_iris\n",
    "\n",
    "iris_dataset = load_iris()"
   ]
  },
  {
   "cell_type": "markdown",
   "metadata": {},
   "source": [
    "iris_dataset은 파이썬의 딕셔너리<sup>Dictionary</sup>와 유사한 Bunch 클래스의 객체입니다. 즉 키와 값으로 구성되어 있습니다.\n",
    "\n",
    ">  단어 그대로 해석하면 사전이라는 뜻이다. 즉, people이라는 단어에 \"사람\", baseball이라는 단어에 \"야구\"라는 뜻이 부합되듯이 딕셔너리는 Key와 Value라는 것을 한 쌍으로 갖는 자료형이다. 예컨대 Key가 \"baseball\"이라면 Value는 \"야구\"가 될 것이다."
   ]
  },
  {
   "cell_type": "code",
   "execution_count": 34,
   "metadata": {},
   "outputs": [
    {
     "name": "stdout",
     "output_type": "stream",
     "text": [
      "iris_dataset의 키: \n",
      "dict_keys(['data', 'target', 'target_names', 'DESCR', 'feature_names'])\n"
     ]
    }
   ],
   "source": [
    "print(\"iris_dataset의 키: \\n{}\".format(iris_dataset.keys()))"
   ]
  },
  {
   "cell_type": "markdown",
   "metadata": {},
   "source": [
    "DESCR 키에는 데이터셋에 대한 간략한 설명이 들어 있습니다. 앞부분만 조금 살펴보겠습니다."
   ]
  },
  {
   "cell_type": "code",
   "execution_count": 35,
   "metadata": {},
   "outputs": [
    {
     "name": "stdout",
     "output_type": "stream",
     "text": [
      "Iris Plants Database\n",
      "====================\n",
      "\n",
      "Notes\n",
      "-----\n",
      "Data Set Characteristics:\n",
      "    :Number of Instances: 150 (50 in each of three classes)\n",
      "    :Number of Attributes: 4 numeric, predictive att\n",
      "...\n"
     ]
    }
   ],
   "source": [
    "print(iris_dataset['DESCR'][:193] + \"\\n...\")"
   ]
  },
  {
   "cell_type": "markdown",
   "metadata": {},
   "source": [
    "target_names의 값은 우리가 예측하려는 붓꽃 품종의 이름을 문자열 배열로 가지고 있습니다."
   ]
  },
  {
   "cell_type": "code",
   "execution_count": 36,
   "metadata": {},
   "outputs": [
    {
     "name": "stdout",
     "output_type": "stream",
     "text": [
      "타깃의 이름: ['setosa' 'versicolor' 'virginica']\n"
     ]
    }
   ],
   "source": [
    "print(\"타깃의 이름: {}\".format(iris_dataset['target_names']))"
   ]
  },
  {
   "cell_type": "markdown",
   "metadata": {},
   "source": [
    "feature_names의 값은 각 특성을 설명하는 문자열 리스트입니다."
   ]
  },
  {
   "cell_type": "code",
   "execution_count": 37,
   "metadata": {},
   "outputs": [
    {
     "name": "stdout",
     "output_type": "stream",
     "text": [
      "특성의 이름: \n",
      "['sepal length (cm)', 'sepal width (cm)', 'petal length (cm)', 'petal width (cm)']\n"
     ]
    }
   ],
   "source": [
    "print(\"특성의 이름: \\n{}\".format(iris_dataset['feature_names']))"
   ]
  },
  {
   "cell_type": "markdown",
   "metadata": {},
   "source": [
    "실제 데이터는 target과 data 필드에 들어 있습니다. data는 꽃잎의 길이와 폭, 꽃받침의 길이와 폭을 수치 값으로 가지고 있는 NumPy 배열입니다."
   ]
  },
  {
   "cell_type": "code",
   "execution_count": 38,
   "metadata": {},
   "outputs": [
    {
     "name": "stdout",
     "output_type": "stream",
     "text": [
      "data의 타입: <class 'numpy.ndarray'>\n"
     ]
    }
   ],
   "source": [
    "print(\"data의 타입: {}\".format(type(iris_dataset['data'])))"
   ]
  },
  {
   "cell_type": "markdown",
   "metadata": {},
   "source": [
    "data 배열의 행은 개개의 꽃이 되며 열은 각 꽃에서 구한 네 개의 측정치입니다."
   ]
  },
  {
   "cell_type": "code",
   "execution_count": 39,
   "metadata": {},
   "outputs": [
    {
     "name": "stdout",
     "output_type": "stream",
     "text": [
      "data의 크기: (150, 4)\n"
     ]
    }
   ],
   "source": [
    "print(\"data의 크기: {}\".format(iris_dataset['data'].shape))"
   ]
  },
  {
   "cell_type": "markdown",
   "metadata": {},
   "source": [
    "* 이 배열은 150개의 붓꽃 데이터를 가지고 있습니다. \n",
    "* 머신러닝에서 각 아이템은 **샘플**이라 하고 속성은 **특성**이라고 부릅니다. \n",
    "* data 배열의 크기는 샘플의 수에 특성의 수를 곱한 값이 됩니다\n",
    "\n",
    "다음은 맨 처음 다섯 샘플의 특성값입니다."
   ]
  },
  {
   "cell_type": "code",
   "execution_count": null,
   "metadata": {},
   "outputs": [],
   "source": [
    "print(\"data의 처음 다섯 행:\\n{}\".format(iris_dataset['data'][:5]))\n",
    "# 'sepal length (cm)', 'sepal width (cm)', 'petal length (cm)', 'petal width (cm)'"
   ]
  },
  {
   "cell_type": "code",
   "execution_count": 42,
   "metadata": {},
   "outputs": [
    {
     "name": "stdout",
     "output_type": "stream",
     "text": [
      "target의 타입: <class 'numpy.ndarray'>\n"
     ]
    }
   ],
   "source": [
    "print(\"target의 타입: {}\".format(type(iris_dataset['target'])))"
   ]
  },
  {
   "cell_type": "code",
   "execution_count": 43,
   "metadata": {},
   "outputs": [
    {
     "name": "stdout",
     "output_type": "stream",
     "text": [
      "target의 크기: (150,)\n"
     ]
    }
   ],
   "source": [
    "print(\"target의 크기: {}\".format(iris_dataset['target'].shape))"
   ]
  },
  {
   "cell_type": "markdown",
   "metadata": {},
   "source": [
    "붓꽃의 종류는 0에서 2까지의 정수로 기록되어 있습니다."
   ]
  },
  {
   "cell_type": "code",
   "execution_count": 44,
   "metadata": {},
   "outputs": [
    {
     "name": "stdout",
     "output_type": "stream",
     "text": [
      "타깃:\n",
      "[0 0 0 0 0 0 0 0 0 0 0 0 0 0 0 0 0 0 0 0 0 0 0 0 0 0 0 0 0 0 0 0 0 0 0 0 0\n",
      " 0 0 0 0 0 0 0 0 0 0 0 0 0 1 1 1 1 1 1 1 1 1 1 1 1 1 1 1 1 1 1 1 1 1 1 1 1\n",
      " 1 1 1 1 1 1 1 1 1 1 1 1 1 1 1 1 1 1 1 1 1 1 1 1 1 1 2 2 2 2 2 2 2 2 2 2 2\n",
      " 2 2 2 2 2 2 2 2 2 2 2 2 2 2 2 2 2 2 2 2 2 2 2 2 2 2 2 2 2 2 2 2 2 2 2 2 2\n",
      " 2 2]\n"
     ]
    }
   ],
   "source": [
    "print(\"타깃:\\n{}\".format(iris_dataset['target']))"
   ]
  },
  {
   "cell_type": "markdown",
   "metadata": {},
   "source": [
    "숫자의 의미는 iris[‘target_names’] 배열에서 확인할 수 있습니다. 0은 setosa, 1은 versicolor, 2는 virginica입니다."
   ]
  },
  {
   "cell_type": "code",
   "execution_count": 47,
   "metadata": {},
   "outputs": [
    {
     "data": {
      "text/plain": [
       "array(['setosa', 'versicolor', 'virginica'], dtype='<U10')"
      ]
     },
     "execution_count": 47,
     "metadata": {},
     "output_type": "execute_result"
    }
   ],
   "source": [
    " iris_dataset['target_names']"
   ]
  },
  {
   "cell_type": "markdown",
   "metadata": {},
   "source": [
    "### 1.7.2 성과 측정: 훈련 데이터와 테스트 데이터\n",
    "\n",
    "* 이 데이터로 머신러닝 모델을 만들고 새로운 데이터의 품종을 예측\n",
    "* 하지만 만든 모델을 새 데이터에 적용하기 전에 이 모델이 진짜 잘 작동하는지 알아야 합니다. 즉 우리가 만든 모델의 예측을 신뢰할 수 있는지 알아야 합니다.\n",
    "\n",
    "\n",
    "* 불행히도 모델을 만들 때 쓴 데이터는 평가 목적으로 사용할 수 없습니다. \n",
    "* 모델이 훈련 데이터를 그냥 전부 기억할 수 있으니 훈련 데이터에 속한 어떤 데이터라도 정확히 맞출 수 있기 때문이다.\n",
    "* 이렇게 데이터를 기억한다는 것은 모델을 잘 일반화하지 않았다는 뜻입니다(다른 말로는 새로운 데이터에 대해서는 잘 작동하지 않는다는 것입니다).\n",
    "\n",
    "\n",
    "* 모델의 성능을 측정하려면 레이블을 알고 있는 (이전에 본 적 없는) 새 데이터를 모델에 적용해봐야 합니다.\n",
    "* 이를 위해 우리가 가지고 있는 레이블된 데이터(150개의 붓꽃 데이터)를 두 그룹으로 나눕니다.\n",
    "* 그중 하나는 머신러닝 모델을 만들 때 사용하며, 훈련 데이터 혹은 훈련 세트<sup>training set</sup>라고 합니다. 나머지는 모델이 얼마나 잘 작동하는지 측정하는 데 사용하며, 이를 테스트 데이터, 테스트 세트<sup>test set</sup> 혹은 홀드아웃 세트<sup>hold-out set</sup>라고 부릅니다.\n",
    "\n",
    "\n",
    "* scikit-learn은 데이터셋을 섞어서 나눠주는 train_test_split 함수를 제공\n",
    "* 이 함수는 전체 행 중 75% 를 레이블 데이터와 함께 훈련 세트로 뽑습니다. 나머지 25%는 레이블 데이터와 함께 테스트 세트가 됩니다\n",
    "\n",
    "\n",
    "* scikit-learn에서 데이터는 대문자 X로 표시하고 레이블은 소문자 y로 표기합니다\n",
    "* 이는 수학에서 함수의 입력을 x, 출력을 y로 나타내는 표준 공식 f(x)=y에서 유래된 것입니다\n",
    "* 수학의 표기 방식을 따르되 데이터는 2차원 배열(행렬)이므로 대문자 X를, 타깃은 1차원 배열(벡터)이므로 소문자 y를 사용합니다.\n",
    "\n",
    "train_test_split의 반환값을 저장하는 데 이 명명 규칙을 사용하겠습니다."
   ]
  },
  {
   "cell_type": "code",
   "execution_count": 81,
   "metadata": {},
   "outputs": [],
   "source": [
    "from sklearn.model_selection import train_test_split\n",
    "\n",
    "X_train, X_test, y_train, y_test = train_test_split(\n",
    "iris_dataset['data'], iris_dataset['target'], random_state=0)"
   ]
  },
  {
   "cell_type": "markdown",
   "metadata": {},
   "source": [
    "* train_test_split 함수로 데이터를 나누기 전에 유사 난수 생성기를 사용해 데이터셋을 무작위로 섞어야 합니다. \n",
    "* 만약 섞지 않은 상태로 데이터셋 뒤쪽의 25%를 테스트 세트로 이용한다면 그 데이터의 레이블은 모두 2가 됩니다.\n",
    "* 세 클래스 중 하나만 포함한 테스트 세트를 사용하면 모델이 얼마나 잘 일반화되었는지 알 수 없습니다.\n",
    "\n",
    "\n",
    "* 이 함수를 여러 번 실행해도 결과가 똑같이 나오도록 유사 난수 생성기에 넣을 난수 초깃값을 random_state 매개변수로 전달합니다\n",
    "* 이렇게 하면 이 코드는 항상 같은 결과를 출력(이 책에서 난수를 사용할 때는 항상 이렇게 random_state를 고정)\n",
    "\n",
    "\n",
    "* train_test_split 함수의 반환값은 X_train, X_test, y_train, y_test이며 모두 NumPy 배열입니다. X_train은 전체 데이터셋의 75%를, X_test는 나머지 25%를 담고 있습니다."
   ]
  },
  {
   "cell_type": "code",
   "execution_count": 82,
   "metadata": {},
   "outputs": [
    {
     "name": "stdout",
     "output_type": "stream",
     "text": [
      "X_train 크기: (112, 4)\n",
      "y_train 크기: (112,)\n"
     ]
    }
   ],
   "source": [
    "print(\"X_train 크기: {}\".format(X_train.shape))\n",
    "print(\"y_train 크기: {}\".format(y_train.shape))"
   ]
  },
  {
   "cell_type": "code",
   "execution_count": 83,
   "metadata": {},
   "outputs": [
    {
     "name": "stdout",
     "output_type": "stream",
     "text": [
      "X_test 크기: (38, 4)\n",
      "y_test 크기: (38,)\n"
     ]
    }
   ],
   "source": [
    "print(\"X_test 크기: {}\".format(X_test.shape))\n",
    "print(\"y_test 크기: {}\".format(y_test.shape))"
   ]
  },
  {
   "cell_type": "markdown",
   "metadata": {},
   "source": [
    "### 1.7.3 가장 먼저 할 일: 데이터 살펴보기\n",
    "* 머신러닝 모델을 만들기 전에 머신러닝이 없이도 풀 수 있는 문제는 아닌지, 혹은 필요한 정보가 누락되지는 않았는지 데이터를 조사해보는 것\n",
    "* 또한 데이터를 탐색하면서 비정상적인 값이나 특이한 값들을 찾을 수도 있습니다\n",
    "> 예를 들어 붓꽃 데이터 중 일부는 센티미터가 아니고 인치로 되어 있을 수도 있습니다. 실제로 데이터에 일관성이 없거나 이상한 값이 들어가 있는 경우가 종종 있습니다.\n",
    "\n",
    "* 시각화는 데이터를 조사하는 아주 좋은 방법입니다. 산점도<sup>scatter plot</sup>가 그중 하나입니다.\n",
    "> 산점도는 데이터에서 한 특성을 x 축에 놓고 다른 하나는 y 축에 놓아 각 데이터 포인트를 하나의 점으로 나타내는 그래프\n",
    "\n",
    "* 컴퓨터 화면은 2차원이라 한 번에 2개(혹은 3개 2 )의 특성만 그릴 수 있다.\n",
    "* 3개 이상의 특성을 표현하기 위해 모든 특성을 짝지어 만드는 산점도 행렬<sup>scatter matrix</sup>을 사용\n"
   ]
  },
  {
   "cell_type": "code",
   "execution_count": 84,
   "metadata": {},
   "outputs": [],
   "source": [
    "from IPython.display import display  \n",
    "\n",
    "import numpy as np\n",
    "import matplotlib.pyplot as plt  \n",
    "import pandas as pd\n",
    "import mglearn"
   ]
  },
  {
   "cell_type": "code",
   "execution_count": 85,
   "metadata": {},
   "outputs": [],
   "source": [
    "\n",
    "# X_train 데이터를 사용해서 데이터프레임을 만듭니다.\n",
    "# 열의 이름은 iris_dataset.feature_names에 있는 문자열을 사용합니다.\n",
    "iris_dataframe = pd.DataFrame(X_train, columns=iris_dataset.feature_names)\n",
    "\n",
    "#iris_dataframe"
   ]
  },
  {
   "cell_type": "code",
   "execution_count": 86,
   "metadata": {},
   "outputs": [
    {
     "data": {
      "text/plain": [
       "array([[<matplotlib.axes._subplots.AxesSubplot object at 0x000001CCB26008D0>,\n",
       "        <matplotlib.axes._subplots.AxesSubplot object at 0x000001CCB3039208>,\n",
       "        <matplotlib.axes._subplots.AxesSubplot object at 0x000001CCB2A19860>,\n",
       "        <matplotlib.axes._subplots.AxesSubplot object at 0x000001CCB2A41EF0>],\n",
       "       [<matplotlib.axes._subplots.AxesSubplot object at 0x000001CCB2A715C0>,\n",
       "        <matplotlib.axes._subplots.AxesSubplot object at 0x000001CCB2A715F8>,\n",
       "        <matplotlib.axes._subplots.AxesSubplot object at 0x000001CCB2ACA320>,\n",
       "        <matplotlib.axes._subplots.AxesSubplot object at 0x000001CCB2AF19B0>],\n",
       "       [<matplotlib.axes._subplots.AxesSubplot object at 0x000001CCB2B25080>,\n",
       "        <matplotlib.axes._subplots.AxesSubplot object at 0x000001CCB2B49710>,\n",
       "        <matplotlib.axes._subplots.AxesSubplot object at 0x000001CCB2B71DA0>,\n",
       "        <matplotlib.axes._subplots.AxesSubplot object at 0x000001CCB2BA3470>],\n",
       "       [<matplotlib.axes._subplots.AxesSubplot object at 0x000001CCB2BCAB00>,\n",
       "        <matplotlib.axes._subplots.AxesSubplot object at 0x000001CCB2BFB1D0>,\n",
       "        <matplotlib.axes._subplots.AxesSubplot object at 0x000001CCB2C23860>,\n",
       "        <matplotlib.axes._subplots.AxesSubplot object at 0x000001CCB2C4CEF0>]],\n",
       "      dtype=object)"
      ]
     },
     "execution_count": 86,
     "metadata": {},
     "output_type": "execute_result"
    },
    {
     "data": {
      "image/png": "[encoded data removed]",
      "text/plain": [
       "<Figure size 936x936 with 16 Axes>"
      ]
     },
     "metadata": {},
     "output_type": "display_data"
    }
   ],
   "source": [
    "# 데이터프레임을 사용해 y_train에 따라 색으로 구분된 산점도 행렬을 만듭니다.\n",
    "pd.plotting.scatter_matrix(iris_dataframe, c=y_train, figsize=(13, 13), marker='o',\n",
    "hist_kwds={'bins': 20}, s=60, alpha=.8, cmap=mglearn.cm3)"
   ]
  },
  {
   "cell_type": "markdown",
   "metadata": {},
   "source": [
    "그림 1-3 클래스 레이블을 색으로 구분한 iris 데이터셋의 산점도 행렬"
   ]
  },
  {
   "cell_type": "code",
   "execution_count": 87,
   "metadata": {},
   "outputs": [
    {
     "data": {
      "text/plain": [
       "array([1, 1, 2, 0, 2, 0, 0, 1, 2, 2, 2, 2, 1, 2, 1, 1, 2, 2, 2, 2, 1, 2,\n",
       "       1, 0, 2, 1, 1, 1, 1, 2, 0, 0, 2, 1, 0, 0, 1, 0, 2, 1, 0, 1, 2, 1,\n",
       "       0, 2, 2, 2, 2, 0, 0, 2, 2, 0, 2, 0, 2, 2, 0, 0, 2, 0, 0, 0, 1, 2,\n",
       "       2, 0, 0, 0, 1, 1, 0, 0, 1, 0, 2, 1, 2, 1, 0, 2, 0, 2, 0, 0, 2, 0,\n",
       "       2, 1, 1, 1, 2, 2, 1, 1, 0, 1, 2, 2, 0, 1, 1, 1, 1, 0, 0, 0, 2, 1,\n",
       "       2, 0])"
      ]
     },
     "execution_count": 87,
     "metadata": {},
     "output_type": "execute_result"
    }
   ],
   "source": [
    "y_train"
   ]
  },
  {
   "cell_type": "markdown",
   "metadata": {},
   "source": [
    "### 1.7.4 첫 번째 머신러닝 모델: k-최근접 이웃 알고리즘\n",
    "이제 실제 머신러닝 모델을 만들어보겠습니다\n",
    "* 비교적 이해하기 쉬운 k-최근접 이웃<sup>k-Nearest Neighbors, k-NN</sup> 분류기를 사용\n",
    "  1. 이 모델은 단순히 훈련 데이터를 저장하여 만들어집니다\n",
    "  2. 새로운 데이터 포인트에 대한 예측이 필요하면 알고리즘은 새 데이터 포인트에서 가장 가까운 훈련 데이터 포인트를 찾습니다.\n",
    "  3. 그런 다음 찾은 훈련 데이터의 레이블을 새 데이터 포인트의 레이블로 지정합니다.\n",
    "\n",
    "\n",
    "* k-최근접 이웃 알고리즘에서 k는 가장 가까운 이웃 ‘하나’가 아니라 훈련 데이터에서 새로운 데이터 포인트에 가장 가까운 ‘k개’의 이웃을 찾는다는 뜻\n",
    "* 그런 다음 이 이웃들의 클래스 중 빈도가 가장 높은 클래스를 예측값으로 사용\n",
    "\n",
    "\n",
    "\n",
    "* k-최근접 이웃 분류 알고리즘은 neighbors 모듈 아래 KNeighborsClassifier 클래스에 구현되어 있습니다.\n",
    "* 모델을 사용하려면 클래스로부터 객체를 만들어야 합니다. 이때 모델에 필요한 매개변수를 넣습니다. \n",
    "* KNeighborsClassifier에서 가장 중요한 매개변수는 이웃의 개수입니다. 우리는 1로 지정하겠습니다."
   ]
  },
  {
   "cell_type": "code",
   "execution_count": 88,
   "metadata": {},
   "outputs": [],
   "source": [
    "from sklearn.neighbors import KNeighborsClassifier\n",
    "\n",
    "knn = KNeighborsClassifier(n_neighbors=1)"
   ]
  },
  {
   "cell_type": "markdown",
   "metadata": {},
   "source": [
    "* knn 객체는 훈련 데이터로 모델을 만들고 새로운 데이터 포인트에 대해 예측하는 알고리즘을 캡슐화한 것입니다. \n",
    "* 또한 알고리즘이 훈련 데이터로부터 추출한 정보를 담고 있습니다. KNeighborsClassifier의 경우는 훈련 데이터 자체를 저장하고 있습니다.\n",
    "\n",
    "\n",
    "* 훈련 데이터셋으로부터 모델을 만들려면 knn 객체의 fit 메서드를 사용합니다. \n",
    "* 이 메서드는 훈련 데이터인 NumPy 배열 X_train과 훈련 데이터의 레이블을 담고 있는 NumPy 배열 y_train을 매개변수로 받습니다."
   ]
  },
  {
   "cell_type": "code",
   "execution_count": 89,
   "metadata": {},
   "outputs": [
    {
     "data": {
      "text/plain": [
       "KNeighborsClassifier(algorithm='auto', leaf_size=30, metric='minkowski',\n",
       "           metric_params=None, n_jobs=1, n_neighbors=1, p=2,\n",
       "           weights='uniform')"
      ]
     },
     "execution_count": 89,
     "metadata": {},
     "output_type": "execute_result"
    }
   ],
   "source": [
    "knn.fit(X_train, y_train)"
   ]
  },
  {
   "cell_type": "markdown",
   "metadata": {},
   "source": [
    "* fit 메서드는 knn 객체 자체를 반환합니다\n",
    "* 여기에는 모델을 생성할 때 사용한 매개변수를 볼 수 있습니다. \n",
    "* 거의 모든 매개변수가 기본값이고 n_neighbors=1은 우리가 지정한 값이다.\n",
    "\n",
    "\n",
    "2장에서 중요 매개변수를 모두 다루겠습니다"
   ]
  },
  {
   "cell_type": "markdown",
   "metadata": {},
   "source": [
    "### 1.7.5 예측하기\n",
    "이제 이 모델을 사용해서 정확한 레이블을 모르는 새 데이터에 대해 예측을 만들 수 있습니다.\n",
    "\n",
    "* 야생에서 꽃받침의 길이가 5cm, 폭이 2.9cm이고 꽃잎의 길이가 1cm, 폭이 0.2cm인 붓꽃을 보았다고 가정\n",
    "* 그럼 이 붓꽃의 품종은 무엇일까요? \n",
    "\n",
    "먼저 이 측정값을 NumPy 배열, 즉 샘플의 수(1)에 특성의 수(4)를 곱한 크기의 NumPy 배열로 만들어보겠습니다."
   ]
  },
  {
   "cell_type": "code",
   "execution_count": 90,
   "metadata": {},
   "outputs": [
    {
     "name": "stdout",
     "output_type": "stream",
     "text": [
      "X_new.shape: (1, 4)\n"
     ]
    }
   ],
   "source": [
    "X_new = np.array([[5, 2.9, 1, 0.2]])\n",
    "print(\"X_new.shape: {}\".format(X_new.shape))"
   ]
  },
  {
   "cell_type": "markdown",
   "metadata": {},
   "source": [
    "붓꽃 하나의 측정값은 2차원 NumPy 배열에 행으로 들어갑니다"
   ]
  },
  {
   "cell_type": "code",
   "execution_count": 91,
   "metadata": {},
   "outputs": [
    {
     "name": "stdout",
     "output_type": "stream",
     "text": [
      "예측: [0]\n",
      "예측한 타깃의 이름: ['setosa']\n"
     ]
    }
   ],
   "source": [
    "prediction = knn.predict(X_new)\n",
    "print(\"예측: {}\".format(prediction))\n",
    "print(\"예측한 타깃의 이름: {}\".format(\n",
    "iris_dataset['target_names'][prediction]))"
   ]
  },
  {
   "cell_type": "markdown",
   "metadata": {},
   "source": [
    "* 우리가 만든 모델이 새로운 붓꽃을 setosa 품종을 의미하는 클래스 0으로 예측했습니다.\n",
    "* 그런데 어떻게 이 모델의 결과를 신뢰할 수 있을까요?"
   ]
  },
  {
   "cell_type": "markdown",
   "metadata": {},
   "source": [
    "### 1.7.6 모델 평가하기\n",
    "* 앞서 만든 테스트 세트를 사용할 때가 왔습니다. \n",
    "* 이 데이터는 모델을 만들 때 사용하지 않았고 테스트 세트에 있는 각 붓꽃의 품종을 정확히 알고 있습니다.\n",
    "* 따라서 테스트 데이터에 있는 붓꽃의 품종을 예측하고 실제 레이블(품종)과 비교할 수 있습니다. \n",
    "* 얼마나 많은 붓꽃 품종이 정확히 맞았는지 정확도를 계산하여 모델의 성능을 평가합니다."
   ]
  },
  {
   "cell_type": "code",
   "execution_count": 93,
   "metadata": {},
   "outputs": [
    {
     "name": "stdout",
     "output_type": "stream",
     "text": [
      "테스트 세트에 대한 예측값:\n",
      " [2 1 0 2 0 2 0 1 1 1 2 1 1 1 1 0 1 1 0 0 2 1 0 0 2 0 0 1 1 0 2 1 0 2 2 1 0\n",
      " 2]\n"
     ]
    }
   ],
   "source": [
    "y_pred = knn.predict(X_test)\n",
    "print(\"테스트 세트에 대한 예측값:\\n {}\".format(y_pred))"
   ]
  },
  {
   "cell_type": "code",
   "execution_count": 95,
   "metadata": {},
   "outputs": [
    {
     "name": "stdout",
     "output_type": "stream",
     "text": [
      "테스트 세트의 정확도: 0.97\n"
     ]
    }
   ],
   "source": [
    "# 정확도\n",
    "print(\"테스트 세트의 정확도: {:.2f}\".format(np.mean(y_pred == y_test)))"
   ]
  },
  {
   "cell_type": "code",
   "execution_count": 96,
   "metadata": {},
   "outputs": [
    {
     "name": "stdout",
     "output_type": "stream",
     "text": [
      "테스트 세트의 정확도: 0.97\n"
     ]
    }
   ],
   "source": [
    "# 또 knn 객체의 score 메서드로도 테스트 세트의 정확도를 계산할 수 있습니다.\n",
    "print(\"테스트 세트의 정확도: {:.2f}\".format(knn.score(X_test, y_test)))"
   ]
  },
  {
   "cell_type": "markdown",
   "metadata": {},
   "source": [
    "* 이 모델의 테스트 세트에 대한 정확도는 약 0.97입니다. \n",
    "* 이 말은 테스트 세트에 포함된 붓꽃 중 97%의 품종을 정확히 맞혔다는 뜻입니다.\n",
    "* 이 결과 이 모델은 새로운 붓꽃에 대한 정확도가 97%일 것이라 기대할 수 있습니다. \n",
    "* 정확도가 높으므로 아마추어 식물학자는 이 애플리케이션을 충분히 신뢰하고 사용할만합니다. \n",
    "* 이후의 장들에서 모델의 성능을 높이는 방법과 모델을 튜닝할 때 주의할 점을 살펴보겠습니다."
   ]
  },
  {
   "cell_type": "code",
   "execution_count": null,
   "metadata": {},
   "outputs": [],
   "source": []
  }
 ],
 "metadata": {
  "kernelspec": {
   "display_name": "Python 3",
   "language": "python",
   "name": "python3"
  },
  "language_info": {
   "codemirror_mode": {
    "name": "ipython",
    "version": 3
   },
   "file_extension": ".py",
   "mimetype": "text/x-python",
   "name": "python",
   "nbconvert_exporter": "python",
   "pygments_lexer": "ipython3",
   "version": "3.6.5"
  }
 },
 "nbformat": 4,
 "nbformat_minor": 2
}
